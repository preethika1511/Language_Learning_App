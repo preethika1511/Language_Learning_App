{
 "cells": [
  {
   "cell_type": "code",
   "execution_count": null,
   "id": "495a2534-67c1-4295-80a1-6dea27375cd0",
   "metadata": {},
   "outputs": [],
   "source": [
    "a=10\n",
    "a\n"
   ]
  },
  {
   "cell_type": "code",
   "execution_count": 6,
   "id": "fc4bcf81-e801-4543-a4c5-4556ef021307",
   "metadata": {},
   "outputs": [
    {
     "name": "stdout",
     "output_type": "stream",
     "text": [
      "LET'S BEGIN THE FRENCH QUIZ!\n",
      "\n",
      "1.What is the English translation of the french word 'parce que'?\n"
     ]
    },
    {
     "name": "stdin",
     "output_type": "stream",
     "text": [
      "Your answer: iugui\n"
     ]
    },
    {
     "name": "stdout",
     "output_type": "stream",
     "text": [
      "\n",
      "Wrong!!!\n",
      "The correct English translation for 'parce que' is 'because'\n",
      "\n",
      "2.What is the English translation of the french word 'enfant'?\n"
     ]
    },
    {
     "name": "stdin",
     "output_type": "stream",
     "text": [
      "Your answer: iugiu\n"
     ]
    },
    {
     "name": "stdout",
     "output_type": "stream",
     "text": [
      "\n",
      "Wrong!!!\n",
      "The correct English translation for 'enfant' is 'child'\n",
      "\n",
      "3.What is the English translation of the french word 'ici'?\n"
     ]
    },
    {
     "name": "stdin",
     "output_type": "stream",
     "text": [
      "Your answer: iugi\n"
     ]
    },
    {
     "name": "stdout",
     "output_type": "stream",
     "text": [
      "\n",
      "Wrong!!!\n",
      "The correct English translation for 'ici' is 'here'\n",
      "\n",
      "4.What is the English translation of the french word 'nous'?\n"
     ]
    },
    {
     "name": "stdin",
     "output_type": "stream",
     "text": [
      "Your answer: ygyi\n"
     ]
    },
    {
     "name": "stdout",
     "output_type": "stream",
     "text": [
      "\n",
      "Wrong!!!\n",
      "The correct English translation for 'nous' is 'we'\n",
      "\n",
      "5.What is the English translation of the french word 'pays'?\n"
     ]
    },
    {
     "name": "stdin",
     "output_type": "stream",
     "text": [
      "Your answer: iuygiu\n"
     ]
    },
    {
     "name": "stdout",
     "output_type": "stream",
     "text": [
      "\n",
      "Wrong!!!\n",
      "The correct English translation for 'pays' is 'country'\n",
      "\n",
      "Your score is 0/5.\n"
     ]
    },
    {
     "name": "stdin",
     "output_type": "stream",
     "text": [
      "\n",
      "\n",
      "Do you want to practice more questions?(yes/no): ugi\n"
     ]
    },
    {
     "name": "stdout",
     "output_type": "stream",
     "text": [
      "Invalid option!Please enter: \n",
      "\t'YES' to continue \n",
      "\t'NO' to quit\n"
     ]
    },
    {
     "name": "stdin",
     "output_type": "stream",
     "text": [
      "\n",
      "\n",
      "Do you want to practice more questions?(yes/no): yes\n"
     ]
    },
    {
     "name": "stdout",
     "output_type": "stream",
     "text": [
      "\n",
      "1.What is the English translation of the french word 'maison'?\n"
     ]
    },
    {
     "name": "stdin",
     "output_type": "stream",
     "text": [
      "Your answer: yugi\n"
     ]
    },
    {
     "name": "stdout",
     "output_type": "stream",
     "text": [
      "\n",
      "Wrong!!!\n",
      "The correct English translation for 'maison' is 'house'\n",
      "\n",
      "2.What is the English translation of the french word 'livre'?\n"
     ]
    },
    {
     "name": "stdin",
     "output_type": "stream",
     "text": [
      "Your answer: ufiy\n"
     ]
    },
    {
     "name": "stdout",
     "output_type": "stream",
     "text": [
      "\n",
      "Wrong!!!\n",
      "The correct English translation for 'livre' is 'book'\n",
      "\n",
      "3.What is the English translation of the french word 'beau'?\n"
     ]
    },
    {
     "name": "stdin",
     "output_type": "stream",
     "text": [
      "Your answer: yigti\n"
     ]
    },
    {
     "name": "stdout",
     "output_type": "stream",
     "text": [
      "\n",
      "Wrong!!!\n",
      "The correct English translation for 'beau' is 'beautiful'\n",
      "\n",
      "4.What is the English translation of the french word 'voir'?\n"
     ]
    },
    {
     "name": "stdin",
     "output_type": "stream",
     "text": [
      "Your answer: uyfi\n"
     ]
    },
    {
     "name": "stdout",
     "output_type": "stream",
     "text": [
      "\n",
      "Wrong!!!\n",
      "The correct English translation for 'voir' is 'to see'\n",
      "\n",
      "5.What is the English translation of the french word 'ils'?\n"
     ]
    },
    {
     "name": "stdin",
     "output_type": "stream",
     "text": [
      "Your answer: guo\n"
     ]
    },
    {
     "name": "stdout",
     "output_type": "stream",
     "text": [
      "\n",
      "Wrong!!!\n",
      "The correct English translation for 'ils' is 'they (masculine)'\n",
      "\n",
      "Your score is 0/5.\n"
     ]
    },
    {
     "name": "stdin",
     "output_type": "stream",
     "text": [
      "\n",
      "\n",
      "Do you want to practice more questions?(yes/no): no\n"
     ]
    },
    {
     "name": "stdout",
     "output_type": "stream",
     "text": [
      "Thank you!Come back later!\n"
     ]
    }
   ],
   "source": [
    "#LANGUAGE LEARNING APP\n",
    "print(\"LET'S BEGIN THE FRENCH QUIZ!\")\n",
    "import random\n",
    "# 100 common words in french\n",
    "french_words = [\n",
    "    {\"French\": \"bonjour\", \"English\": \"hello\"},\n",
    "    {\"French\": \"oui\", \"English\": \"yes\"},\n",
    "    {\"French\": \"non\", \"English\": \"no\"},\n",
    "    {\"French\": \"merci\", \"English\": \"thank you\"},\n",
    "    {\"French\": \"s'il vous plaît\", \"English\": \"please\"},\n",
    "    {\"French\": \"excusez-moi\", \"English\": \"excuse me\"},\n",
    "    {\"French\": \"au revoir\", \"English\": \"goodbye\"},\n",
    "    {\"French\": \"salut\", \"English\": \"hi\"},\n",
    "    {\"French\": \"je\", \"English\": \"I\"},\n",
    "    {\"French\": \"tu\", \"English\": \"you (informal)\"},\n",
    "    {\"French\": \"vous\", \"English\": \"you (formal/plural)\"},\n",
    "    {\"French\": \"il\", \"English\": \"he\"},\n",
    "    {\"French\": \"elle\", \"English\": \"she\"},\n",
    "    {\"French\": \"nous\", \"English\": \"we\"},\n",
    "    {\"French\": \"ils\", \"English\": \"they (masculine)\"},\n",
    "    {\"French\": \"elles\", \"English\": \"they (feminine)\"},\n",
    "    {\"French\": \"être\", \"English\": \"to be\"},\n",
    "    {\"French\": \"avoir\", \"English\": \"to have\"},\n",
    "    {\"French\": \"faire\", \"English\": \"to do/make\"},\n",
    "    {\"French\": \"aller\", \"English\": \"to go\"},\n",
    "    {\"French\": \"dire\", \"English\": \"to say\"},\n",
    "    {\"French\": \"voir\", \"English\": \"to see\"},\n",
    "    {\"French\": \"pouvoir\", \"English\": \"can\"},\n",
    "    {\"French\": \"vouloir\", \"English\": \"to want\"},\n",
    "    {\"French\": \"savoir\", \"English\": \"to know\"},\n",
    "    {\"French\": \"manger\", \"English\": \"to eat\"},\n",
    "    {\"French\": \"boire\", \"English\": \"to drink\"},\n",
    "    {\"French\": \"aimer\", \"English\": \"to like/love\"},\n",
    "    {\"French\": \"parler\", \"English\": \"to speak\"},\n",
    "    {\"French\": \"écouter\", \"English\": \"to listen\"},\n",
    "    {\"French\": \"lire\", \"English\": \"to read\"},\n",
    "    {\"French\": \"écrire\", \"English\": \"to write\"},\n",
    "    {\"French\": \"prendre\", \"English\": \"to take\"},\n",
    "    {\"French\": \"donner\", \"English\": \"to give\"},\n",
    "    {\"French\": \"venir\", \"English\": \"to come\"},\n",
    "    {\"French\": \"partir\", \"English\": \"to leave\"},\n",
    "    {\"French\": \"jour\", \"English\": \"day\"},\n",
    "    {\"French\": \"nuit\", \"English\": \"night\"},\n",
    "    {\"French\": \"matin\", \"English\": \"morning\"},\n",
    "    {\"French\": \"soir\", \"English\": \"evening\"},\n",
    "    {\"French\": \"temps\", \"English\": \"time/weather\"},\n",
    "    {\"French\": \"semaine\", \"English\": \"week\"},\n",
    "    {\"French\": \"mois\", \"English\": \"month\"},\n",
    "    {\"French\": \"année\", \"English\": \"year\"},\n",
    "    {\"French\": \"homme\", \"English\": \"man\"},\n",
    "    {\"French\": \"femme\", \"English\": \"woman\"},\n",
    "    {\"French\": \"enfant\", \"English\": \"child\"},\n",
    "    {\"French\": \"ami\", \"English\": \"friend (male)\"},\n",
    "    {\"French\": \"amie\", \"English\": \"friend (female)\"},\n",
    "    {\"French\": \"maison\", \"English\": \"house\"},\n",
    "    {\"French\": \"école\", \"English\": \"school\"},\n",
    "    {\"French\": \"travail\", \"English\": \"work\"},\n",
    "    {\"French\": \"ville\", \"English\": \"city\"},\n",
    "    {\"French\": \"pays\", \"English\": \"country\"},\n",
    "    {\"French\": \"famille\", \"English\": \"family\"},\n",
    "    {\"French\": \"argent\", \"English\": \"money\"},\n",
    "    {\"French\": \"chien\", \"English\": \"dog\"},\n",
    "    {\"French\": \"chat\", \"English\": \"cat\"},\n",
    "    {\"French\": \"voiture\", \"English\": \"car\"},\n",
    "    {\"French\": \"vélo\", \"English\": \"bicycle\"},\n",
    "    {\"French\": \"livre\", \"English\": \"book\"},\n",
    "    {\"French\": \"table\", \"English\": \"table\"},\n",
    "    {\"French\": \"chaise\", \"English\": \"chair\"},\n",
    "    {\"French\": \"porte\", \"English\": \"door\"},\n",
    "    {\"French\": \"fenêtre\", \"English\": \"window\"},\n",
    "    {\"French\": \"eau\", \"English\": \"water\"},\n",
    "    {\"French\": \"pain\", \"English\": \"bread\"},\n",
    "    {\"French\": \"fromage\", \"English\": \"cheese\"},\n",
    "    {\"French\": \"fruit\", \"English\": \"fruit\"},\n",
    "    {\"French\": \"légume\", \"English\": \"vegetable\"},\n",
    "    {\"French\": \"sel\", \"English\": \"salt\"},\n",
    "    {\"French\": \"sucre\", \"English\": \"sugar\"},\n",
    "    {\"French\": \"chaud\", \"English\": \"hot\"},\n",
    "    {\"French\": \"froid\", \"English\": \"cold\"},\n",
    "    {\"French\": \"grand\", \"English\": \"big\"},\n",
    "    {\"French\": \"petit\", \"English\": \"small\"},\n",
    "    {\"French\": \"long\", \"English\": \"long\"},\n",
    "    {\"French\": \"court\", \"English\": \"short\"},\n",
    "    {\"French\": \"beau\", \"English\": \"beautiful\"},\n",
    "    {\"French\": \"bon\", \"English\": \"good\"},\n",
    "    {\"French\": \"mauvais\", \"English\": \"bad\"},\n",
    "    {\"French\": \"heureux\", \"English\": \"happy\"},\n",
    "    {\"French\": \"triste\", \"English\": \"sad\"},\n",
    "    {\"French\": \"fort\", \"English\": \"strong\"},\n",
    "    {\"French\": \"faible\", \"English\": \"weak\"},\n",
    "    {\"French\": \"jeune\", \"English\": \"young\"},\n",
    "    {\"French\": \"vieux\", \"English\": \"old\"},\n",
    "    {\"French\": \"nouveau\", \"English\": \"new\"},\n",
    "    {\"French\": \"ancien\", \"English\": \"old/ancient\"},\n",
    "    {\"French\": \"proche\", \"English\": \"close\"},\n",
    "    {\"French\": \"loin\", \"English\": \"far\"},\n",
    "    {\"French\": \"ici\", \"English\": \"here\"},\n",
    "    {\"French\": \"là\", \"English\": \"there\"},\n",
    "    {\"French\": \"quand\", \"English\": \"when\"},\n",
    "    {\"French\": \"où\", \"English\": \"where\"},\n",
    "    {\"French\": \"comment\", \"English\": \"how\"},\n",
    "    {\"French\": \"pourquoi\", \"English\": \"why\"},\n",
    "    {\"French\": \"parce que\", \"English\": \"because\"},\n",
    "    {\"French\": \"quel\", \"English\": \"which\"},\n",
    "    {\"French\": \"qui\", \"English\": \"who\"},\n",
    "    {\"French\": \"quoi\", \"English\": \"what\"}\n",
    "]\n",
    "\n",
    "def french_quiz(french_words):\n",
    "    while True:  \n",
    "            question_number=1\n",
    "            random.shuffle(french_words)\n",
    "            score=0\n",
    "            for word in french_words: #word is a dictionary\n",
    "                if question_number<=5: #The user can attempt 5 questions in a row\n",
    "                    print(f\"\\n{question_number}.What is the English translation of the french word '{word['French']}'?\")\n",
    "                    given_answer=input(\"Your answer:\").strip().lower() #strip() method is used to remove any leading and trailing characters (by default, whitespace characters) from a string.\n",
    "                    correct_answer=word['English'].lower()\n",
    "                    question_number+=1\n",
    "                    if given_answer==correct_answer:\n",
    "                        print(\"\\nCorrect Answer!\")\n",
    "                        score+=1\n",
    "                    else:\n",
    "                        print(f\"\\nWrong!!!\\nThe correct English translation for '{word['French']}' is '{correct_answer}'\")\n",
    "                \n",
    "            print(f\"\\nYour score is {score}/5.\")\n",
    "#Asking the user whether they want to continue the quiz or not      \n",
    "            while True:\n",
    "                choice=input(\"\\n\\nDo you want to practice more questions?(yes/no):\").lower()\n",
    "                if choice==\"yes\":\n",
    "                    break #exits from the current while loop and restart the parent while lopp\n",
    "                elif choice==\"no\":\n",
    "                    print(\"Thank you!Come back later!\")\n",
    "                    return #Exit the funtion completely\n",
    "                else:\n",
    "                    print(\"Invalid option!Please enter: \\n\\t'YES' to continue \\n\\t'NO' to quit\")\n",
    "                                                        \n",
    "def main():\n",
    "    french_quiz(french_words)\n",
    "\n",
    "if __name__==\"__main__\":\n",
    "    main()\n"
   ]
  },
  {
   "cell_type": "code",
   "execution_count": null,
   "id": "254ebc47-c30a-4894-b0e4-fb5f818e54b8",
   "metadata": {},
   "outputs": [],
   "source": []
  }
 ],
 "metadata": {
  "kernelspec": {
   "display_name": "Python 3 (ipykernel)",
   "language": "python",
   "name": "python3"
  },
  "language_info": {
   "codemirror_mode": {
    "name": "ipython",
    "version": 3
   },
   "file_extension": ".py",
   "mimetype": "text/x-python",
   "name": "python",
   "nbconvert_exporter": "python",
   "pygments_lexer": "ipython3",
   "version": "3.12.7"
  }
 },
 "nbformat": 4,
 "nbformat_minor": 5
}
